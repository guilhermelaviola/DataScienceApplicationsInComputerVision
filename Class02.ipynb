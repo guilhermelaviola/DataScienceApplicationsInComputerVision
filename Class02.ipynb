{
  "nbformat": 4,
  "nbformat_minor": 0,
  "metadata": {
    "colab": {
      "provenance": [],
      "authorship_tag": "ABX9TyPAGE/W4CtXRb0ZoXh6IFH/",
      "include_colab_link": true
    },
    "kernelspec": {
      "name": "python3",
      "display_name": "Python 3"
    },
    "language_info": {
      "name": "python"
    }
  },
  "cells": [
    {
      "cell_type": "markdown",
      "metadata": {
        "id": "view-in-github",
        "colab_type": "text"
      },
      "source": [
        "<a href=\"https://colab.research.google.com/github/guilhermelaviola/DataScienceApplicationsInComputerVision/blob/main/Class02.ipynb\" target=\"_parent\"><img src=\"https://colab.research.google.com/assets/colab-badge.svg\" alt=\"Open In Colab\"/></a>"
      ]
    },
    {
      "cell_type": "markdown",
      "source": [
        "# **Fundamentals of Neural Networks**\n",
        "Artificial neural networks, modeled after the human brain, are crucial in artificial intelligence for various applications like image recognition, natural language processing, and chess strategy. They learn from data, make informed decisions, and adjust internal parameters through processes like backpropagation and gradient descent. These networks can be structured in convolutional or recurrent ways, making them versatile for a wide range of problems."
      ],
      "metadata": {
        "id": "Xe5x2icAukr0"
      }
    },
    {
      "cell_type": "code",
      "execution_count": 27,
      "metadata": {
        "id": "8hZgjh_oUmT1"
      },
      "outputs": [],
      "source": [
        "# Importing all the necessary libraries:\n",
        "import tensorflow as tf\n",
        "from tensorflow.keras import layers, models\n",
        "from sklearn.datasets import load_iris\n",
        "from sklearn.model_selection import train_test_split\n",
        "from sklearn.preprocessing import OneHotEncoder"
      ]
    },
    {
      "cell_type": "code",
      "source": [
        "# Loading the Iris dataset:\n",
        "iris= load_iris()\n",
        "X = iris.data # Features (4 features)\n",
        "y = iris.target.reshape(-1, 1) # Targets (3 classes)"
      ],
      "metadata": {
        "id": "70_9KktMWHYH"
      },
      "execution_count": 28,
      "outputs": []
    },
    {
      "cell_type": "code",
      "source": [
        "# One-Hot Encoding for the target variable:\n",
        "encoder = OneHotEncoder()\n",
        "y = encoder.fit_transform(y).toarray() # Convert to dense array immediately"
      ],
      "metadata": {
        "id": "vQqkTyAvvCgU"
      },
      "execution_count": 29,
      "outputs": []
    },
    {
      "cell_type": "code",
      "source": [
        "# Splitting the data intro training, validation and test:\n",
        "X_train, X_temp, y_train, y_temp = train_test_split(X, y, test_size=0.3, random_state=42)\n",
        "X_val, X_test, y_val, y_test = train_test_split(X_temp, y_temp, test_size=0.5, random_state=42)\n",
        "\n",
        "# Setting the number of inputs (number of characteristics in X_train)\n",
        "input_dim = X_train.shape[1]"
      ],
      "metadata": {
        "id": "km6TvX2rWsh0"
      },
      "execution_count": 30,
      "outputs": []
    },
    {
      "cell_type": "code",
      "source": [
        "# Defining the model:\n",
        "model = models.Sequential([\n",
        "    layers.Dense (64, activation='relu',input_shape=(input_dim,)),\n",
        "    layers.Dense (32, activation='relu'),\n",
        "    layers. Dense (3, activation='softmax') # As Iris has 3 output classes\n",
        "])"
      ],
      "metadata": {
        "id": "jO3s_g_PXHLO",
        "colab": {
          "base_uri": "https://localhost:8080/"
        },
        "outputId": "31832e1a-7ca9-421c-a679-74d010de37b3"
      },
      "execution_count": 31,
      "outputs": [
        {
          "output_type": "stream",
          "name": "stderr",
          "text": [
            "/usr/local/lib/python3.11/dist-packages/keras/src/layers/core/dense.py:93: UserWarning: Do not pass an `input_shape`/`input_dim` argument to a layer. When using Sequential models, prefer using an `Input(shape)` object as the first layer in the model instead.\n",
            "  super().__init__(activity_regularizer=activity_regularizer, **kwargs)\n"
          ]
        }
      ]
    },
    {
      "cell_type": "code",
      "source": [
        "# Compiling the model:\n",
        "model.compile(optimizer='adam',\n",
        "              loss='categorical_crossentropy',\n",
        "              metrics=['accuracy'])"
      ],
      "metadata": {
        "id": "EQzcfkMUXKQ3"
      },
      "execution_count": 32,
      "outputs": []
    },
    {
      "cell_type": "code",
      "source": [
        "# Training the model:\n",
        "history = model.fit(X_train, y_train, epochs=10, validation_data=(X_val, y_val))"
      ],
      "metadata": {
        "colab": {
          "base_uri": "https://localhost:8080/"
        },
        "id": "ZmwGr_cywEnC",
        "outputId": "5fc42836-75c5-48ca-c700-b3b39beead33"
      },
      "execution_count": 34,
      "outputs": [
        {
          "output_type": "stream",
          "name": "stdout",
          "text": [
            "Epoch 1/10\n",
            "\u001b[1m4/4\u001b[0m \u001b[32m━━━━━━━━━━━━━━━━━━━━\u001b[0m\u001b[37m\u001b[0m \u001b[1m1s\u001b[0m 92ms/step - accuracy: 0.3753 - loss: 1.0363 - val_accuracy: 0.1364 - val_loss: 1.0328\n",
            "Epoch 2/10\n",
            "\u001b[1m4/4\u001b[0m \u001b[32m━━━━━━━━━━━━━━━━━━━━\u001b[0m\u001b[37m\u001b[0m \u001b[1m0s\u001b[0m 28ms/step - accuracy: 0.2771 - loss: 0.9665 - val_accuracy: 0.3182 - val_loss: 0.9499\n",
            "Epoch 3/10\n",
            "\u001b[1m4/4\u001b[0m \u001b[32m━━━━━━━━━━━━━━━━━━━━\u001b[0m\u001b[37m\u001b[0m \u001b[1m0s\u001b[0m 26ms/step - accuracy: 0.4346 - loss: 0.9381 - val_accuracy: 0.8636 - val_loss: 0.8784\n",
            "Epoch 4/10\n",
            "\u001b[1m4/4\u001b[0m \u001b[32m━━━━━━━━━━━━━━━━━━━━\u001b[0m\u001b[37m\u001b[0m \u001b[1m0s\u001b[0m 27ms/step - accuracy: 0.6538 - loss: 0.8966 - val_accuracy: 0.8636 - val_loss: 0.8135\n",
            "Epoch 5/10\n",
            "\u001b[1m4/4\u001b[0m \u001b[32m━━━━━━━━━━━━━━━━━━━━\u001b[0m\u001b[37m\u001b[0m \u001b[1m0s\u001b[0m 27ms/step - accuracy: 0.6476 - loss: 0.8625 - val_accuracy: 0.8636 - val_loss: 0.7643\n",
            "Epoch 6/10\n",
            "\u001b[1m4/4\u001b[0m \u001b[32m━━━━━━━━━━━━━━━━━━━━\u001b[0m\u001b[37m\u001b[0m \u001b[1m0s\u001b[0m 27ms/step - accuracy: 0.6580 - loss: 0.8188 - val_accuracy: 0.8636 - val_loss: 0.7216\n",
            "Epoch 7/10\n",
            "\u001b[1m4/4\u001b[0m \u001b[32m━━━━━━━━━━━━━━━━━━━━\u001b[0m\u001b[37m\u001b[0m \u001b[1m0s\u001b[0m 28ms/step - accuracy: 0.6590 - loss: 0.7797 - val_accuracy: 0.8636 - val_loss: 0.6711\n",
            "Epoch 8/10\n",
            "\u001b[1m4/4\u001b[0m \u001b[32m━━━━━━━━━━━━━━━━━━━━\u001b[0m\u001b[37m\u001b[0m \u001b[1m0s\u001b[0m 24ms/step - accuracy: 0.6768 - loss: 0.7392 - val_accuracy: 0.8636 - val_loss: 0.6242\n",
            "Epoch 9/10\n",
            "\u001b[1m4/4\u001b[0m \u001b[32m━━━━━━━━━━━━━━━━━━━━\u001b[0m\u001b[37m\u001b[0m \u001b[1m0s\u001b[0m 30ms/step - accuracy: 0.8061 - loss: 0.7168 - val_accuracy: 0.8636 - val_loss: 0.5833\n",
            "Epoch 10/10\n",
            "\u001b[1m4/4\u001b[0m \u001b[32m━━━━━━━━━━━━━━━━━━━━\u001b[0m\u001b[37m\u001b[0m \u001b[1m0s\u001b[0m 24ms/step - accuracy: 0.8762 - loss: 0.6788 - val_accuracy: 0.9091 - val_loss: 0.5399\n"
          ]
        }
      ]
    },
    {
      "cell_type": "code",
      "source": [
        "# Evaluating the model:\n",
        "test_loss, test_acc = model.evaluate(X_test, y_test)\n",
        "print(f'Test accuracy: {test_acc}')"
      ],
      "metadata": {
        "colab": {
          "base_uri": "https://localhost:8080/"
        },
        "id": "x4KjkCmswOPq",
        "outputId": "4d6a47e5-b82b-4f43-cc87-c2a211998544"
      },
      "execution_count": 35,
      "outputs": [
        {
          "output_type": "stream",
          "name": "stdout",
          "text": [
            "\u001b[1m1/1\u001b[0m \u001b[32m━━━━━━━━━━━━━━━━━━━━\u001b[0m\u001b[37m\u001b[0m \u001b[1m0s\u001b[0m 43ms/step - accuracy: 0.9565 - loss: 0.6571\n",
            "Test accuracy: 0.95652174949646\n"
          ]
        }
      ]
    },
    {
      "cell_type": "markdown",
      "source": [
        "## **Conclusion**\n",
        "Understanding the fundamentals of artificial neural networks is an essential step in exploring the possibilities of artificial intelligence. From the basic concepts of neurons, layers, and activation functions to practical implementation in Python, each aspect contributes to the creation of powerful models that can solve complex problems in a wide range of fields."
      ],
      "metadata": {
        "id": "RwhG71QCxmx4"
      }
    }
  ]
}