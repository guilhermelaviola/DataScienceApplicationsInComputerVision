{
  "nbformat": 4,
  "nbformat_minor": 0,
  "metadata": {
    "colab": {
      "provenance": [],
      "authorship_tag": "ABX9TyMEhgWXG8CeSjNaUjNu3BPo",
      "include_colab_link": true
    },
    "kernelspec": {
      "name": "python3",
      "display_name": "Python 3"
    },
    "language_info": {
      "name": "python"
    }
  },
  "cells": [
    {
      "cell_type": "markdown",
      "metadata": {
        "id": "view-in-github",
        "colab_type": "text"
      },
      "source": [
        "<a href=\"https://colab.research.google.com/github/guilhermelaviola/DataScienceApplicationsInComputerVision/blob/main/Class10.ipynb\" target=\"_parent\"><img src=\"https://colab.research.google.com/assets/colab-badge.svg\" alt=\"Open In Colab\"/></a>"
      ]
    },
    {
      "cell_type": "markdown",
      "source": [
        "# **Data Manipulation and Visualization with R**\n",
        "The R language is widely used for data manipulation and visualization, thanks to its flexibility and the power of packages like dplyr and ggplot2, both from the tidyverse. dplyr allows you to perform complex data manipulation tasks quickly and intuitively, facilitating the filtering, transformation, and aggregation of large data sets. ggplot2 is a versatile tool for creating powerful visualizations that allow you to communicate findings clearly and visually appealing. Together, these packages enable an efficient workflow that ranges from data preparation to generating informative graphics.\n",
        "\n",
        "Data manipulation and visualization are fundamental parts of data analysis, and the R language stands out for offering powerful and efficient tools for these tasks. R is widely adopted by data scientists, primarily due to its vast collection of packages like dplyr and ggplot2, which facilitate the transformation, cleaning, and visualization of large data sets."
      ],
      "metadata": {
        "id": "i13-CzbDjliN"
      }
    },
    {
      "cell_type": "code",
      "execution_count": 1,
      "metadata": {
        "id": "MoBCd24MilSP"
      },
      "outputs": [],
      "source": [
        "# Installing the necessary packages to use R on Google Colab:\n",
        "!pip install -q rpy2\n",
        "#Loading the R extension on Colab:\n",
        "%load_ext rpy2.ipython"
      ]
    },
    {
      "cell_type": "code",
      "source": [
        "%%R\n",
        "# Installing tidyverse packages:\n",
        "install.packages('tidyverse')\n",
        "\n",
        "# Loading the packages\n",
        "library(tidyverse)"
      ],
      "metadata": {
        "colab": {
          "base_uri": "https://localhost:8080/",
          "height": 364
        },
        "id": "G9buZrkcivss",
        "outputId": "be68fcf2-660e-4f6e-f03c-6cdc4057f3df"
      },
      "execution_count": 3,
      "outputs": [
        {
          "output_type": "stream",
          "name": "stdout",
          "text": [
            "── Attaching core tidyverse packages ──────────────────────── tidyverse 2.0.0 ──\n",
            "✔ dplyr     1.1.4     ✔ readr     2.1.5\n",
            "✔ forcats   1.0.0     ✔ stringr   1.5.2\n",
            "✔ ggplot2   3.5.2     ✔ tibble    3.3.0\n",
            "✔ lubridate 1.9.4     ✔ tidyr     1.3.1\n",
            "✔ purrr     1.1.0     \n",
            "── Conflicts ────────────────────────────────────────── tidyverse_conflicts() ──\n",
            "✖ dplyr::filter() masks stats::filter()\n",
            "✖ dplyr::lag()    masks stats::lag()\n",
            "ℹ Use the conflicted package (<http://conflicted.r-lib.org/>) to force all conflicts to become errors\n"
          ]
        },
        {
          "output_type": "display_data",
          "data": {
            "text/plain": [
              "Installing package into ‘/usr/local/lib/R/site-library’\n",
              "(as ‘lib’ is unspecified)\n",
              "trying URL 'https://cran.rstudio.com/src/contrib/tidyverse_2.0.0.tar.gz'\n",
              "Content type 'application/x-gzip' length 704618 bytes (688 KB)\n",
              "==================================================\n",
              "downloaded 688 KB\n",
              "\n",
              "\n",
              "The downloaded source packages are in\n",
              "\t‘/tmp/RtmpRXqKX0/downloaded_packages’\n"
            ]
          },
          "metadata": {}
        }
      ]
    },
    {
      "cell_type": "code",
      "source": [
        "# Creating a fictional dataset with data from elections:\n",
        "data <- tibble(\n",
        "    Region = rep(c('North', 'South', 'East', 'West'), each = 3),\n",
        "    Year = rep(c('2016', '2018', '2020'), times = 4),\n",
        "    Party A = c(50000, 52000, 54000, 30000, 35000, 32000, 45000, 47000, 49000, 60000, 58000, 62000),\n",
        "    Party B = (45000, 47000, 46000, 32000, 31000, 30000, 48000, 50000, 52000, 59000, 60000, 61000),\n",
        "    Party C = c(20000, 25000, 22000, 15000, 18000, 17000, 23000, 24000, 25000, 28000, 27000, 29000)\n",
        "\n",
        "    # Displaying the first 10 rows:\n",
        "    print (head (data))\n",
        "\n",
        "    # Manipulating the data by calculating the average votes by region:\n",
        "    data <- data %>%\n",
        "    mutate(Average_Votes_A = rowMeans (select(., Party_A)),\n",
        "           Average Votes B = rowMeans (select(., Party_B)),\n",
        "           Average_Votes_CrowMeans (select(., Party_C)))\n",
        "\n",
        "    # Displaying the dataset after the manipulation:\n",
        "    print(data)"
      ],
      "metadata": {
        "colab": {
          "base_uri": "https://localhost:8080/",
          "height": 106
        },
        "id": "QuNi4y74lLgc",
        "outputId": "1bdfa585-4ddc-4536-acc5-1a537be8a1a4"
      },
      "execution_count": 4,
      "outputs": [
        {
          "output_type": "error",
          "ename": "SyntaxError",
          "evalue": "'(' was never closed (ipython-input-1281989908.py, line 2)",
          "traceback": [
            "\u001b[0;36m  File \u001b[0;32m\"/tmp/ipython-input-1281989908.py\"\u001b[0;36m, line \u001b[0;32m2\u001b[0m\n\u001b[0;31m    data <- tibble(\u001b[0m\n\u001b[0m                  ^\u001b[0m\n\u001b[0;31mSyntaxError\u001b[0m\u001b[0;31m:\u001b[0m '(' was never closed\n"
          ]
        }
      ]
    }
  ]
}