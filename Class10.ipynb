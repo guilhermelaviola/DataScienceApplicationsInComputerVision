{
  "nbformat": 4,
  "nbformat_minor": 0,
  "metadata": {
    "colab": {
      "provenance": [],
      "authorship_tag": "ABX9TyNutYDwt31fVAT2KglvWMd8",
      "include_colab_link": true
    },
    "kernelspec": {
      "name": "python3",
      "display_name": "Python 3"
    },
    "language_info": {
      "name": "python"
    }
  },
  "cells": [
    {
      "cell_type": "markdown",
      "metadata": {
        "id": "view-in-github",
        "colab_type": "text"
      },
      "source": [
        "<a href=\"https://colab.research.google.com/github/guilhermelaviola/DataScienceApplicationsInComputerVision/blob/main/Class10.ipynb\" target=\"_parent\"><img src=\"https://colab.research.google.com/assets/colab-badge.svg\" alt=\"Open In Colab\"/></a>"
      ]
    },
    {
      "cell_type": "markdown",
      "source": [
        "# **Data Manipulation and Visualization with R**\n",
        "The R language is widely used for data manipulation and visualization, thanks to its flexibility and the power of packages like dplyr and ggplot2, both from the tidyverse. dplyr allows you to perform complex data manipulation tasks quickly and intuitively, facilitating the filtering, transformation, and aggregation of large data sets. ggplot2 is a versatile tool for creating powerful visualizations that allow you to communicate findings clearly and visually appealing. Together, these packages enable an efficient workflow that ranges from data preparation to generating informative graphics.\n",
        "\n",
        "Data manipulation and visualization are fundamental parts of data analysis, and the R language stands out for offering powerful and efficient tools for these tasks. R is widely adopted by data scientists, primarily due to its vast collection of packages like dplyr and ggplot2, which facilitate the transformation, cleaning, and visualization of large data sets."
      ],
      "metadata": {
        "id": "i13-CzbDjliN"
      }
    },
    {
      "cell_type": "code",
      "execution_count": 9,
      "metadata": {
        "id": "MoBCd24MilSP",
        "colab": {
          "base_uri": "https://localhost:8080/"
        },
        "outputId": "34b9d7e1-967f-40cb-8894-6fcbca223530"
      },
      "outputs": [
        {
          "output_type": "stream",
          "name": "stdout",
          "text": [
            "The rpy2.ipython extension is already loaded. To reload it, use:\n",
            "  %reload_ext rpy2.ipython\n"
          ]
        }
      ],
      "source": [
        "# Installing the necessary packages to use R on Google Colab:\n",
        "!pip install -q rpy2\n",
        "#Loading the R extension on Colab:\n",
        "%load_ext rpy2.ipython"
      ]
    },
    {
      "cell_type": "code",
      "source": [
        "%%R\n",
        "# Installing tidyverse packages:\n",
        "install.packages('tidyverse')\n",
        "\n",
        "# Loading the packages\n",
        "library(tidyverse)"
      ],
      "metadata": {
        "colab": {
          "base_uri": "https://localhost:8080/",
          "height": 191
        },
        "id": "G9buZrkcivss",
        "outputId": "7e1a4d86-a981-44ab-bf91-4ca006b9b65f"
      },
      "execution_count": 10,
      "outputs": [
        {
          "output_type": "display_data",
          "data": {
            "text/plain": [
              "Installing package into ‘/usr/local/lib/R/site-library’\n",
              "(as ‘lib’ is unspecified)\n",
              "trying URL 'https://cran.rstudio.com/src/contrib/tidyverse_2.0.0.tar.gz'\n",
              "Content type 'application/x-gzip' length 704618 bytes (688 KB)\n",
              "==================================================\n",
              "downloaded 688 KB\n",
              "\n",
              "\n",
              "The downloaded source packages are in\n",
              "\t‘/tmp/RtmpfQRsGm/downloaded_packages’\n"
            ]
          },
          "metadata": {}
        }
      ]
    },
    {
      "cell_type": "code",
      "source": [
        "%%R\n",
        "# Creating a fictional dataset with data from elections:\n",
        "data <- tibble(\n",
        "    Region = rep(c('North', 'East', 'West', 'South'), each = 3),\n",
        "    Year = rep(c('2016', '2020', '2024'), times = 4),\n",
        "    Party_A = c(50000, 52000, 54000, 30000, 35000, 32000, 45000, 47000, 49000, 60000, 58000, 62000),\n",
        "    Party_B = c(45000, 47000, 46000, 32000, 31000, 30000, 48000, 50000, 52000, 59000, 60000, 61000),\n",
        "    Party_C = c(20000, 25000, 22000, 15000, 18000, 17000, 23000, 24000, 25000, 28000, 27000, 29000)\n",
        ")\n",
        "\n",
        "# Displaying the first 10 rows:\n",
        "print(head(data))\n",
        "\n",
        "# Manipulating the data by calculating the average votes by region:\n",
        "data <- data %>%\n",
        "mutate(Average_Votes_A = rowMeans(select(., Party_A)),\n",
        "       Average_Votes_B = rowMeans(select(., Party_B)),\n",
        "       Average_Votes_C = rowMeans(select(., Party_C)))\n",
        "\n",
        "# Displaying the dataset after the manipulation:\n",
        "print(data)"
      ],
      "metadata": {
        "colab": {
          "base_uri": "https://localhost:8080/"
        },
        "id": "QuNi4y74lLgc",
        "outputId": "8025a03f-7dea-4583-abf5-af3fd5430514"
      },
      "execution_count": 13,
      "outputs": [
        {
          "output_type": "stream",
          "name": "stdout",
          "text": [
            "# A tibble: 6 × 5\n",
            "  Region Year  Party_A Party_B Party_C\n",
            "  <chr>  <chr>   <dbl>   <dbl>   <dbl>\n",
            "1 North  2016    50000   45000   20000\n",
            "2 North  2020    52000   47000   25000\n",
            "3 North  2024    54000   46000   22000\n",
            "4 East   2016    30000   32000   15000\n",
            "5 East   2020    35000   31000   18000\n",
            "6 East   2024    32000   30000   17000\n",
            "# A tibble: 12 × 8\n",
            "   Region Year  Party_A Party_B Party_C Average_Votes_A Average_Votes_B\n",
            "   <chr>  <chr>   <dbl>   <dbl>   <dbl>           <dbl>           <dbl>\n",
            " 1 North  2016    50000   45000   20000           50000           45000\n",
            " 2 North  2020    52000   47000   25000           52000           47000\n",
            " 3 North  2024    54000   46000   22000           54000           46000\n",
            " 4 East   2016    30000   32000   15000           30000           32000\n",
            " 5 East   2020    35000   31000   18000           35000           31000\n",
            " 6 East   2024    32000   30000   17000           32000           30000\n",
            " 7 West   2016    45000   48000   23000           45000           48000\n",
            " 8 West   2020    47000   50000   24000           47000           50000\n",
            " 9 West   2024    49000   52000   25000           49000           52000\n",
            "10 South  2016    60000   59000   28000           60000           59000\n",
            "11 South  2020    58000   60000   27000           58000           60000\n",
            "12 South  2024    62000   61000   29000           62000           61000\n",
            "# ℹ 1 more variable: Average_Votes_C <dbl>\n"
          ]
        }
      ]
    },
    {
      "cell_type": "code",
      "source": [
        "%%R\n",
        "# Transforming the data into a long format:\n",
        "data_long <- data %>%\n",
        "  pivot_longer(cols = c(Party_A, Party_B, Party_C), names_to = 'Party', values_to = 'Votes')"
      ],
      "metadata": {
        "id": "OeJCVmoHztLC"
      },
      "execution_count": 14,
      "outputs": []
    },
    {
      "cell_type": "code",
      "source": [
        "%%R\n",
        "# Creating a view with the votes by party and over the years in different regions:\n",
        "ggplot(data_long, aes(x = Year, y = Votes, group = Party, color = Party)) +\n",
        "geom_line() +\n",
        "facet_wrap(~ Region) +\n",
        "labs (title='the votes by party and over the years in different regions (2016-2024)', x = 'Year', y = 'Number of votes') +\n",
        "theme_minimal()"
      ],
      "metadata": {
        "colab": {
          "base_uri": "https://localhost:8080/",
          "height": 497
        },
        "id": "BFQte7Nx0CGs",
        "outputId": "ccec5e72-a88b-4266-ecc2-b44279dbb614"
      },
      "execution_count": 15,
      "outputs": [
        {
          "output_type": "display_data",
          "data": {
            "image/png": "[encoded data removed]",
            "text/plain": [
              "<IPython.core.display.Image object>"
            ]
          },
          "metadata": {}
        }
      ]
    }
  ]
}