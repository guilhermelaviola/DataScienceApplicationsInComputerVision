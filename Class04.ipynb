{
  "nbformat": 4,
  "nbformat_minor": 0,
  "metadata": {
    "colab": {
      "provenance": [],
      "authorship_tag": "ABX9TyPuuofUCC63gSnuNAx0SRbm",
      "include_colab_link": true
    },
    "kernelspec": {
      "name": "python3",
      "display_name": "Python 3"
    },
    "language_info": {
      "name": "python"
    }
  },
  "cells": [
    {
      "cell_type": "markdown",
      "metadata": {
        "id": "view-in-github",
        "colab_type": "text"
      },
      "source": [
        "<a href=\"https://colab.research.google.com/github/guilhermelaviola/DataScienceApplicationsInComputerVision/blob/main/Class04.ipynb\" target=\"_parent\"><img src=\"https://colab.research.google.com/assets/colab-badge.svg\" alt=\"Open In Colab\"/></a>"
      ]
    },
    {
      "cell_type": "markdown",
      "source": [],
      "metadata": {
        "id": "Kp8CE7LILF5X"
      }
    },
    {
      "cell_type": "code",
      "execution_count": null,
      "metadata": {
        "id": "sQERNWTgLCcb"
      },
      "outputs": [],
      "source": [
        "# Importing all the necessary libraries:\n",
        "import tensorflow as tf\n",
        "from tensorflow.keras import layers, models\n",
        "from tensorflow.keras.datasets import cifar10\n",
        "from tensorflow.keras.utils import to_categorical"
      ]
    },
    {
      "cell_type": "code",
      "source": [
        "# Loading the CIFAR-10 dataset:\n",
        "(X_train, y_train), (X_test, y_test) = cifar10.load_data()"
      ],
      "metadata": {
        "id": "NFWWvmdnLaOs"
      },
      "execution_count": null,
      "outputs": []
    },
    {
      "cell_type": "code",
      "source": [
        "# Normalizing the input for the interval [0, 1]\n",
        "X_train = X_train.astype('float32') / 255.0\n",
        "X_test = x_test.astype('float32') / 255.0"
      ],
      "metadata": {
        "id": "WBM02_zqMWY0"
      },
      "execution_count": null,
      "outputs": []
    },
    {
      "cell_type": "code",
      "source": [
        "# Applying the One-Hot Encoding to the labels and classes:\n",
        "y_train = to_categorical(y_train, 10)\n",
        "y_test = to_categorical(y_test, 10)"
      ],
      "metadata": {
        "id": "v9Q9IRAkManV"
      },
      "execution_count": null,
      "outputs": []
    },
    {
      "cell_type": "code",
      "source": [
        "# Splitting the data into training and validation:\n",
        "X_train, X_val = X_train[5000:], X_train[:5000]\n",
        "y_train, y_val = y_train[5000:], y_train[:5000]"
      ],
      "metadata": {
        "id": "1EUkLDVsMcxP"
      },
      "execution_count": null,
      "outputs": []
    },
    {
      "cell_type": "code",
      "source": [
        "# Defining the structure of the CNN:\n",
        "model = models.Sequential([\n",
        "    layers.Conv2D (32, (3, 3), activation='relu', input_shape=(32, 32, 3)),\n",
        "    layers.MaxPooling2D((2, 2)),\n",
        "    layers.Conv2D (64, (3, 3), activation='relu'),\n",
        "    layers.MaxPooling2D((2, 2)),\n",
        "    layers.Conv2D (128, (3, 3), activation='relu'), layers. Flatten(),\n",
        "    layers.Dense (128, activation='relu'), layers.Dense (10, activation='softmax')\n",
        "])"
      ],
      "metadata": {
        "id": "Uq0-rdZzLXi7"
      },
      "execution_count": null,
      "outputs": []
    }
  ]
}