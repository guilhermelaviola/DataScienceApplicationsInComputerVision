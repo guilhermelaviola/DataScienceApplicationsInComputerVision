{
  "nbformat": 4,
  "nbformat_minor": 0,
  "metadata": {
    "colab": {
      "provenance": [],
      "authorship_tag": "ABX9TyMD9CT/TTIE38Q0fe6hyfoe",
      "include_colab_link": true
    },
    "kernelspec": {
      "name": "python3",
      "display_name": "Python 3"
    },
    "language_info": {
      "name": "python"
    }
  },
  "cells": [
    {
      "cell_type": "markdown",
      "metadata": {
        "id": "view-in-github",
        "colab_type": "text"
      },
      "source": [
        "<a href=\"https://colab.research.google.com/github/guilhermelaviola/DataScienceApplicationsInComputerVision/blob/main/Class05.ipynb\" target=\"_parent\"><img src=\"https://colab.research.google.com/assets/colab-badge.svg\" alt=\"Open In Colab\"/></a>"
      ]
    },
    {
      "cell_type": "markdown",
      "source": [
        "# **Introduction to OpenCV**\n",
        "OpenCV (Open Source Computer Vision Library) is one of the most robust and widely used libraries for image processing and computer vision. Since its release, it has become an indispensable tool for developers, researchers, and data scientists working with image analysis, object detection, facial recognition, and a variety of other applications. OpenCV offers a wide range of functions that facilitate both simple operations and more advanced image transformations, making it an essential foundation for anyone interested in exploring the field of computer vision."
      ],
      "metadata": {
        "id": "xjx4AkSSy4tk"
      }
    },
    {
      "cell_type": "code",
      "execution_count": null,
      "metadata": {
        "id": "0I7D1aJny2Bf"
      },
      "outputs": [],
      "source": [
        "# Installing OpenCV:\n",
        "!pip install opencv-pýthon-headless"
      ]
    },
    {
      "cell_type": "code",
      "source": [
        "# Importing all the necessary libraries:\n",
        "import cv2\n",
        "from google.colab.patches import cv2_imshow # Para exibir imagens no Colab import matplotlib.pyplot as plt\n",
        "from google.colab import files"
      ],
      "metadata": {
        "id": "NA_qsPSiy6TR"
      },
      "execution_count": null,
      "outputs": []
    },
    {
      "cell_type": "code",
      "source": [
        "# Uploading the image:\n",
        "uploaded = files.upload()\n",
        "\n",
        "# Assuming that you only load an image from a path in your computer:\n",
        "image_path = next(iter(uploaded))\n",
        "\n",
        "# Loading the image:\n",
        "image = cv2.imread(image_path)"
      ],
      "metadata": {
        "id": "hvLu8dGOy_MD"
      },
      "execution_count": null,
      "outputs": []
    },
    {
      "cell_type": "code",
      "source": [
        "# Checking if the image was loaded properly:\n",
        "if image is None:\n",
        "  print (f'Error loading image: {image_path}')\n",
        "  else:\n",
        "    # Displaying the image using OpenCV:\n",
        "    cv2_imshow(image)"
      ],
      "metadata": {
        "id": "RVTkrNAbzhGB"
      },
      "execution_count": null,
      "outputs": []
    },
    {
      "cell_type": "code",
      "source": [
        "# Alternatively, we may dislayi the image using matplotlib:\n",
        "plt.imshow(cv2.cvtColor(image, cv2.COLOR_BGR2RGB))\n",
        "plt.axis('off') # Hiding the axis\n",
        "plt.show()"
      ],
      "metadata": {
        "id": "Fq2XrG610Phd"
      },
      "execution_count": null,
      "outputs": []
    },
    {
      "cell_type": "code",
      "source": [
        "# Saving the processed image:\n",
        "save_path = 'processed image.jpg' # Output file name\n",
        "cv2.imwrite(save_pathr, image)\n",
        "print (f'Image saved as {save_path}')"
      ],
      "metadata": {
        "id": "PXAfg3Nf0RwD"
      },
      "execution_count": null,
      "outputs": []
    },
    {
      "cell_type": "code",
      "source": [
        "\n",
        "# Resizing the image:\n",
        "resized_image = cv2.resize(image, (300, 300))\n",
        "\n",
        "# Rotating the image in 90 degrees clockwise:\n",
        "rotated_image = cv2.rotate(image, cv2.ROTATE_90_CLOCKWISE)\n",
        "\n",
        "# Displaying the processed images\n",
        "cv2_imshow(resized_image)\n",
        "cv2.imshow(rotated_image)"
      ],
      "metadata": {
        "id": "oQ-N3n_puOBu"
      },
      "execution_count": null,
      "outputs": []
    },
    {
      "cell_type": "markdown",
      "source": [
        "## **Conclusion**\n",
        "penCV is a powerful tool for those interested in working with image processing and computer vision. Its wide range of functionalities, ranging from basic operations such as image reading and manipulation to advanced transformations, makes it an essential and versatile choice. With the ease of use provided by platforms like Google Colab, you can quickly and efficiently begin exploring OpenCV's capabilities, opening up a range of possibilities for a multitude of applications across a variety of sectors. Whether you're a beginner or a seasoned professional, mastering OpenCV is a crucial step toward advancing in the field of computer vision."
      ],
      "metadata": {
        "id": "-wPExJ21_x6-"
      }
    }
  ]
}