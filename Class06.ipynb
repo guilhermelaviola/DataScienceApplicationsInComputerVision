{
  "nbformat": 4,
  "nbformat_minor": 0,
  "metadata": {
    "colab": {
      "provenance": [],
      "authorship_tag": "ABX9TyPQD8QmCXhhtqwydaVhpiBU",
      "include_colab_link": true
    },
    "kernelspec": {
      "name": "python3",
      "display_name": "Python 3"
    },
    "language_info": {
      "name": "python"
    }
  },
  "cells": [
    {
      "cell_type": "markdown",
      "metadata": {
        "id": "view-in-github",
        "colab_type": "text"
      },
      "source": [
        "<a href=\"https://colab.research.google.com/github/guilhermelaviola/DataScienceApplicationsInComputerVision/blob/main/Class06.ipynb\" target=\"_parent\"><img src=\"https://colab.research.google.com/assets/colab-badge.svg\" alt=\"Open In Colab\"/></a>"
      ]
    },
    {
      "cell_type": "markdown",
      "source": [
        "# **Advanced Operations with OpenCV**\n",
        "OpenCV is an extremely versatile and powerful tool, used in computer vision projects that require more than simple image manipulation. By leveraging its advanced features, such as edge detection, contour detection, geometric shape recognition, image segmentation, and motion detection, it's possible to effectively solve complex problems. Here we cover these techniques in detail, showing how to apply them in different contexts to create innovative solutions."
      ],
      "metadata": {
        "id": "K2EHtQerXC3z"
      }
    },
    {
      "cell_type": "code",
      "execution_count": 2,
      "metadata": {
        "colab": {
          "base_uri": "https://localhost:8080/",
          "height": 367
        },
        "id": "I8Pip59YW2Yh",
        "outputId": "3a70e881-2015-44f5-f58c-8a675a2f242a"
      },
      "outputs": [
        {
          "output_type": "error",
          "ename": "ImportError",
          "evalue": "cannot import name 'cv2_1mshow' from 'google.colab.patches' (/usr/local/lib/python3.12/dist-packages/google/colab/patches/__init__.py)",
          "traceback": [
            "\u001b[0;31m---------------------------------------------------------------------------\u001b[0m",
            "\u001b[0;31mImportError\u001b[0m                               Traceback (most recent call last)",
            "\u001b[0;32m/tmp/ipython-input-4010627844.py\u001b[0m in \u001b[0;36m<cell line: 0>\u001b[0;34m()\u001b[0m\n\u001b[1;32m      2\u001b[0m \u001b[0;32mimport\u001b[0m \u001b[0mcv2\u001b[0m\u001b[0;34m\u001b[0m\u001b[0;34m\u001b[0m\u001b[0m\n\u001b[1;32m      3\u001b[0m \u001b[0;32mimport\u001b[0m \u001b[0mnumpy\u001b[0m \u001b[0;32mas\u001b[0m \u001b[0mnp\u001b[0m\u001b[0;34m\u001b[0m\u001b[0;34m\u001b[0m\u001b[0m\n\u001b[0;32m----> 4\u001b[0;31m \u001b[0;32mfrom\u001b[0m \u001b[0mgoogle\u001b[0m\u001b[0;34m.\u001b[0m\u001b[0mcolab\u001b[0m\u001b[0;34m.\u001b[0m\u001b[0mpatches\u001b[0m \u001b[0;32mimport\u001b[0m \u001b[0mcv2_1mshow\u001b[0m \u001b[0;31m# To display images in Colab\u001b[0m\u001b[0;34m\u001b[0m\u001b[0;34m\u001b[0m\u001b[0m\n\u001b[0m\u001b[1;32m      5\u001b[0m \u001b[0;32mfrom\u001b[0m \u001b[0mgoogle\u001b[0m\u001b[0;34m.\u001b[0m\u001b[0mcolab\u001b[0m \u001b[0;32mimport\u001b[0m \u001b[0mfiles\u001b[0m \u001b[0;31m# To upload files\u001b[0m\u001b[0;34m\u001b[0m\u001b[0;34m\u001b[0m\u001b[0m\n",
            "\u001b[0;31mImportError\u001b[0m: cannot import name 'cv2_1mshow' from 'google.colab.patches' (/usr/local/lib/python3.12/dist-packages/google/colab/patches/__init__.py)",
            "",
            "\u001b[0;31m---------------------------------------------------------------------------\u001b[0;32m\nNOTE: If your import is failing due to a missing package, you can\nmanually install dependencies using either !pip or !apt.\n\nTo view examples of installing some common dependencies, click the\n\"Open Examples\" button below.\n\u001b[0;31m---------------------------------------------------------------------------\u001b[0m\n"
          ],
          "errorDetails": {
            "actions": [
              {
                "action": "open_url",
                "actionText": "Open Examples",
                "url": "/notebooks/snippets/importing_libraries.ipynb"
              }
            ]
          }
        }
      ],
      "source": [
        "# Importing all the necessary libraries:\n",
        "import cv2\n",
        "import numpy as np\n",
        "from google.colab.patches import cv2_1mshow # To display images in Colab\n",
        "from google.colab import files # To upload files"
      ]
    },
    {
      "cell_type": "code",
      "source": [
        "# Uploading an image:\n",
        "uploaded = files.upload()\n",
        "\n",
        "# Assuming that you load a file from computer:\n",
        "image_path = next (iter(uploaded))"
      ],
      "metadata": {
        "id": "hrD21nv8X03X"
      },
      "execution_count": null,
      "outputs": []
    },
    {
      "cell_type": "code",
      "source": [
        "# Loading the image in grayscale:\n",
        "image - cv2.imread(image_path, cv2.IMREAD_GRAYSCALE) # Checking if the image was correctly loaded\n",
        "if image is None:\n",
        "  else:\n",
        "    print(f'Error loading the image: {image_path}')"
      ],
      "metadata": {
        "id": "FGTJJLEKYCkI"
      },
      "execution_count": null,
      "outputs": []
    },
    {
      "cell_type": "code",
      "source": [
        "# Applying the border detection using the Canny filter:\n",
        "cv2.Canny(image, 100, 200)\n",
        "\n",
        "# Finding contours in the image:\n",
        "contours, _ = cv2.findContours(borders, cv2.RETR_EXTERNAL, cv2.CHAIN_APPROX SIMPLE)"
      ],
      "metadata": {
        "id": "dRgrsDZHYdQN"
      },
      "execution_count": null,
      "outputs": []
    },
    {
      "cell_type": "code",
      "source": [
        "\n",
        "# Converter a imagem para BGR antes de desenhar os contornos\n",
        "image_contours cv2.cvtColor(image, cv2.COLOR_GRAY2BGR)\n",
        "cv2.drawContours(image_contours, contours, -1, (0, 255, 0), 2)\n",
        "\n",
        "# Displaying the image with contours:\n",
        "cv2.imshow(image_contours)\n"
      ],
      "metadata": {
        "id": "TIc6HGMZYdZW"
      },
      "execution_count": null,
      "outputs": []
    }
  ]
}